{
 "cells": [
  {
   "cell_type": "markdown",
   "id": "908af073-20a9-40ea-839b-83442a71de9e",
   "metadata": {},
   "source": [
    "# Cyclistic: Google Capstone Project"
   ]
  },
  {
   "cell_type": "markdown",
   "id": "177d0245-af45-4703-83b9-b99acde2e70c",
   "metadata": {},
   "source": [
    "## Introdution"
   ]
  },
  {
   "cell_type": "markdown",
   "id": "81f4827b-fb9d-4097-85fc-fbf8a8cb630a",
   "metadata": {},
   "source": [
    "The bike share analysis case study presented here and brings the real world scenario of the nature of bike riders, i.e.Annual member riders and non-member Casual riders in Chicago. Data for this analysis has been provided by Motivate International Inc. for 692 stations across Chicago and is a part of Course work of Google Data Analytics Certificate This case study is given by Google through E-learning cousera."
   ]
  },
  {
   "cell_type": "markdown",
   "id": "a4d4436d-51e1-405a-8814-da4a5ff52fa0",
   "metadata": {},
   "source": [
    "## 1. Ask"
   ]
  },
  {
   "cell_type": "markdown",
   "id": "314a9a22-91d5-4388-af01-42e5c1bb10fa",
   "metadata": {},
   "source": [
    "### Key Tasks"
   ]
  },
  {
   "cell_type": "markdown",
   "id": "e95ab97e-a8b3-4865-92e8-8e370c967ad4",
   "metadata": {},
   "source": [
    "1. Consider key stakeholders:\n",
    "    - The key stake holders are Lily Moreno (Director and Manager), Cyclistic executive members and marketing        analytics team.\n",
    "\n",
    "2. Identify the buisness task:\n",
    "    - The main goal of this work is to ensure design marketing strategies that would convert casual riders          into annual members by analyzing their wages.\n",
    "    - Therefore, the focus will be centered on the nature of bike riders for a period of 18 months. \n",
    " "
   ]
  },
  {
   "cell_type": "markdown",
   "id": "c8e5ce22-2fcd-4762-a9df-669d9055910a",
   "metadata": {},
   "source": [
    "## 2. Prepare"
   ]
  },
  {
   "cell_type": "markdown",
   "id": "e525edc5-188d-4cc7-b382-3c204d5d5e10",
   "metadata": {},
   "source": [
    "The data was available to be downloaded from the official site of Kaggle. under the licence agreement and data-privacy issues prohibits us from using the rider's personally identifiable information. This data was used as i created a nootbook. I will be using Python programming language to access and analyze the data. The data provided here is a second party data and is reliable because it comes from the source that has experiences in bike traffic analysis. On the other hand, the data does not seem to be Sampling biased because it covers almost all the region in Chicago.\n",
    "\n",
    "The Data from 01-01-2020 to 31-06-2021"
   ]
  },
  {
   "cell_type": "markdown",
   "id": "47680394-48bf-42d8-a50e-8e1a922f1407",
   "metadata": {},
   "source": [
    "### Key Tasks"
   ]
  },
  {
   "cell_type": "markdown",
   "id": "2dc12e71-09f7-412b-af09-6ebf70e5b1bc",
   "metadata": {},
   "source": [
    "1. Download data and store it appropriately.\n",
    "2. Identify how it’s organized:\n",
    "    - It's organized as a proper dataset\n",
    "3. Identify the bias and credibility:\n",
    "    - No issues with bias in this Dataset"
   ]
  },
  {
   "cell_type": "code",
   "execution_count": 262,
   "id": "c4e5a16e-ea79-4580-b4d3-da5baacb87e3",
   "metadata": {},
   "outputs": [],
   "source": [
    "## Loading the necassary libraries\n",
    "import pandas as pd\n",
    "import numpy as np\n",
    "import matplotlib.pyplot as plt\n",
    "import seaborn as sns\n",
    "import datetime"
   ]
  },
  {
   "cell_type": "code",
   "execution_count": 263,
   "id": "be236cd6-296f-4275-ae19-ade0cf6038a4",
   "metadata": {},
   "outputs": [],
   "source": [
    "## Loading the dataset\n",
    "df = pd.read_csv(\"C:/Users/al-khateb/Desktop/Cyclic Capstone Project/final_tripdata.csv\")"
   ]
  },
  {
   "cell_type": "code",
   "execution_count": 264,
   "id": "1cd413d6-f89f-4af5-9d55-346f1936e855",
   "metadata": {},
   "outputs": [
    {
     "data": {
      "text/html": [
       "<div>\n",
       "<style scoped>\n",
       "    .dataframe tbody tr th:only-of-type {\n",
       "        vertical-align: middle;\n",
       "    }\n",
       "\n",
       "    .dataframe tbody tr th {\n",
       "        vertical-align: top;\n",
       "    }\n",
       "\n",
       "    .dataframe thead th {\n",
       "        text-align: right;\n",
       "    }\n",
       "</style>\n",
       "<table border=\"1\" class=\"dataframe\">\n",
       "  <thead>\n",
       "    <tr style=\"text-align: right;\">\n",
       "      <th></th>\n",
       "      <th>ride_id</th>\n",
       "      <th>rideable_type</th>\n",
       "      <th>started_at</th>\n",
       "      <th>ended_at</th>\n",
       "      <th>start_station_name</th>\n",
       "      <th>start_station_id</th>\n",
       "      <th>end_station_name</th>\n",
       "      <th>end_station_id</th>\n",
       "      <th>start_lat</th>\n",
       "      <th>start_lng</th>\n",
       "      <th>end_lat</th>\n",
       "      <th>end_lng</th>\n",
       "      <th>member_casual</th>\n",
       "      <th>day_week_start</th>\n",
       "      <th>duration</th>\n",
       "      <th>distance</th>\n",
       "    </tr>\n",
       "  </thead>\n",
       "  <tbody>\n",
       "    <tr>\n",
       "      <th>0</th>\n",
       "      <td>000001004784CD35</td>\n",
       "      <td>docked_bike</td>\n",
       "      <td>2020-07-22 15:38:23</td>\n",
       "      <td>2020-07-22 15:56:47</td>\n",
       "      <td>Wolcott (Ravenswood) Ave &amp; Montrose Ave</td>\n",
       "      <td>238</td>\n",
       "      <td>Southport Ave &amp; Clybourn Ave</td>\n",
       "      <td>307</td>\n",
       "      <td>41.961406</td>\n",
       "      <td>-87.676169</td>\n",
       "      <td>41.920771</td>\n",
       "      <td>-87.663712</td>\n",
       "      <td>casual</td>\n",
       "      <td>4.0</td>\n",
       "      <td>1824.0</td>\n",
       "      <td>42501.53</td>\n",
       "    </tr>\n",
       "    <tr>\n",
       "      <th>1</th>\n",
       "      <td>000002EBE159AE82</td>\n",
       "      <td>electric_bike</td>\n",
       "      <td>2021-06-22 17:25:15</td>\n",
       "      <td>2021-06-22 17:31:34</td>\n",
       "      <td>Clinton St &amp; Jackson Blvd</td>\n",
       "      <td>638</td>\n",
       "      <td>Milwaukee Ave &amp; Grand Ave</td>\n",
       "      <td>13033</td>\n",
       "      <td>41.878261</td>\n",
       "      <td>-87.641155</td>\n",
       "      <td>41.891495</td>\n",
       "      <td>-87.648179</td>\n",
       "      <td>member</td>\n",
       "      <td>3.0</td>\n",
       "      <td>619.0</td>\n",
       "      <td>14982.48</td>\n",
       "    </tr>\n",
       "    <tr>\n",
       "      <th>2</th>\n",
       "      <td>00000550C665101A</td>\n",
       "      <td>docked_bike</td>\n",
       "      <td>2020-06-06 15:20:01</td>\n",
       "      <td>2020-06-06 16:28:09</td>\n",
       "      <td>Sheffield Ave &amp; Waveland Ave</td>\n",
       "      <td>114</td>\n",
       "      <td>Kedzie Ave &amp; Milwaukee Ave</td>\n",
       "      <td>260</td>\n",
       "      <td>41.949399</td>\n",
       "      <td>-87.654529</td>\n",
       "      <td>41.929567</td>\n",
       "      <td>-87.707857</td>\n",
       "      <td>casual</td>\n",
       "      <td>7.0</td>\n",
       "      <td>10808.0</td>\n",
       "      <td>56896.25</td>\n",
       "    </tr>\n",
       "    <tr>\n",
       "      <th>3</th>\n",
       "      <td>0000127970C84F62</td>\n",
       "      <td>docked_bike</td>\n",
       "      <td>2020-05-30 06:36:36</td>\n",
       "      <td>2020-05-30 06:55:28</td>\n",
       "      <td>Green St &amp; Madison St</td>\n",
       "      <td>198</td>\n",
       "      <td>Wells St &amp; Concord Ln</td>\n",
       "      <td>289</td>\n",
       "      <td>41.881900</td>\n",
       "      <td>-87.648800</td>\n",
       "      <td>41.912100</td>\n",
       "      <td>-87.634700</td>\n",
       "      <td>member</td>\n",
       "      <td>7.0</td>\n",
       "      <td>1892.0</td>\n",
       "      <td>33329.42</td>\n",
       "    </tr>\n",
       "    <tr>\n",
       "      <th>4</th>\n",
       "      <td>00001A81D056B01B</td>\n",
       "      <td>classic_bike</td>\n",
       "      <td>2021-04-14 08:10:11</td>\n",
       "      <td>2021-04-14 08:19:14</td>\n",
       "      <td>Wood St &amp; Hubbard St</td>\n",
       "      <td>13432</td>\n",
       "      <td>Morgan St &amp; Lake St</td>\n",
       "      <td>TA1306000015</td>\n",
       "      <td>41.889899</td>\n",
       "      <td>-87.671473</td>\n",
       "      <td>41.885483</td>\n",
       "      <td>-87.652305</td>\n",
       "      <td>member</td>\n",
       "      <td>4.0</td>\n",
       "      <td>903.0</td>\n",
       "      <td>19670.18</td>\n",
       "    </tr>\n",
       "  </tbody>\n",
       "</table>\n",
       "</div>"
      ],
      "text/plain": [
       "            ride_id  rideable_type           started_at             ended_at  \\\n",
       "0  000001004784CD35    docked_bike  2020-07-22 15:38:23  2020-07-22 15:56:47   \n",
       "1  000002EBE159AE82  electric_bike  2021-06-22 17:25:15  2021-06-22 17:31:34   \n",
       "2  00000550C665101A    docked_bike  2020-06-06 15:20:01  2020-06-06 16:28:09   \n",
       "3  0000127970C84F62    docked_bike  2020-05-30 06:36:36  2020-05-30 06:55:28   \n",
       "4  00001A81D056B01B   classic_bike  2021-04-14 08:10:11  2021-04-14 08:19:14   \n",
       "\n",
       "                        start_station_name start_station_id  \\\n",
       "0  Wolcott (Ravenswood) Ave & Montrose Ave              238   \n",
       "1                Clinton St & Jackson Blvd              638   \n",
       "2             Sheffield Ave & Waveland Ave              114   \n",
       "3                    Green St & Madison St              198   \n",
       "4                     Wood St & Hubbard St            13432   \n",
       "\n",
       "               end_station_name end_station_id  start_lat  start_lng  \\\n",
       "0  Southport Ave & Clybourn Ave            307  41.961406 -87.676169   \n",
       "1     Milwaukee Ave & Grand Ave          13033  41.878261 -87.641155   \n",
       "2    Kedzie Ave & Milwaukee Ave            260  41.949399 -87.654529   \n",
       "3         Wells St & Concord Ln            289  41.881900 -87.648800   \n",
       "4           Morgan St & Lake St   TA1306000015  41.889899 -87.671473   \n",
       "\n",
       "     end_lat    end_lng member_casual  day_week_start  duration  distance  \n",
       "0  41.920771 -87.663712        casual             4.0    1824.0  42501.53  \n",
       "1  41.891495 -87.648179        member             3.0     619.0  14982.48  \n",
       "2  41.929567 -87.707857        casual             7.0   10808.0  56896.25  \n",
       "3  41.912100 -87.634700        member             7.0    1892.0  33329.42  \n",
       "4  41.885483 -87.652305        member             4.0     903.0  19670.18  "
      ]
     },
     "execution_count": 264,
     "metadata": {},
     "output_type": "execute_result"
    }
   ],
   "source": [
    "## Get a look at the data set\n",
    "df.head()"
   ]
  },
  {
   "cell_type": "code",
   "execution_count": 265,
   "id": "4b723daa-7eb2-4aa1-8266-44232f0167f8",
   "metadata": {},
   "outputs": [
    {
     "name": "stdout",
     "output_type": "stream",
     "text": [
      "<class 'pandas.core.frame.DataFrame'>\n",
      "RangeIndex: 5515094 entries, 0 to 5515093\n",
      "Data columns (total 16 columns):\n",
      " #   Column              Dtype  \n",
      "---  ------              -----  \n",
      " 0   ride_id             object \n",
      " 1   rideable_type       object \n",
      " 2   started_at          object \n",
      " 3   ended_at            object \n",
      " 4   start_station_name  object \n",
      " 5   start_station_id    object \n",
      " 6   end_station_name    object \n",
      " 7   end_station_id      object \n",
      " 8   start_lat           float64\n",
      " 9   start_lng           float64\n",
      " 10  end_lat             float64\n",
      " 11  end_lng             float64\n",
      " 12  member_casual       object \n",
      " 13  day_week_start      float64\n",
      " 14  duration            float64\n",
      " 15  distance            float64\n",
      "dtypes: float64(7), object(9)\n",
      "memory usage: 673.2+ MB\n"
     ]
    }
   ],
   "source": [
    "df.info()"
   ]
  },
  {
   "cell_type": "code",
   "execution_count": 266,
   "id": "e9c63545-9b9d-4214-9c5c-ec46b3d8beb2",
   "metadata": {},
   "outputs": [
    {
     "data": {
      "text/plain": [
       "ride_id                    0\n",
       "rideable_type              1\n",
       "started_at                 1\n",
       "ended_at                   1\n",
       "start_station_name    282069\n",
       "start_station_id      282695\n",
       "end_station_name      315999\n",
       "end_station_id        316460\n",
       "start_lat                  1\n",
       "start_lng                  1\n",
       "end_lat                    1\n",
       "end_lng                    1\n",
       "member_casual              1\n",
       "day_week_start             1\n",
       "duration                   1\n",
       "distance                   1\n",
       "dtype: int64"
      ]
     },
     "execution_count": 266,
     "metadata": {},
     "output_type": "execute_result"
    }
   ],
   "source": [
    "df.isna().sum()"
   ]
  },
  {
   "cell_type": "markdown",
   "id": "d92f0d78-c4b6-4827-9261-d74be1b35dbc",
   "metadata": {},
   "source": [
    "## 3. Data Cleaning"
   ]
  },
  {
   "cell_type": "markdown",
   "id": "b572b0e4-0baf-4e3a-9389-792a4bf40b0b",
   "metadata": {},
   "source": [
    "The stage is to clean the data and make it availble for analyses to get our recommendations at the act stages."
   ]
  },
  {
   "cell_type": "code",
   "execution_count": 267,
   "id": "782b7967-ee52-4428-ae4a-29a8a0296270",
   "metadata": {},
   "outputs": [
    {
     "data": {
      "text/html": [
       "<div>\n",
       "<style scoped>\n",
       "    .dataframe tbody tr th:only-of-type {\n",
       "        vertical-align: middle;\n",
       "    }\n",
       "\n",
       "    .dataframe tbody tr th {\n",
       "        vertical-align: top;\n",
       "    }\n",
       "\n",
       "    .dataframe thead th {\n",
       "        text-align: right;\n",
       "    }\n",
       "</style>\n",
       "<table border=\"1\" class=\"dataframe\">\n",
       "  <thead>\n",
       "    <tr style=\"text-align: right;\">\n",
       "      <th></th>\n",
       "      <th>ride_id</th>\n",
       "      <th>rideable_type</th>\n",
       "      <th>started_at</th>\n",
       "      <th>ended_at</th>\n",
       "      <th>start_station_name</th>\n",
       "      <th>start_station_id</th>\n",
       "      <th>end_station_name</th>\n",
       "      <th>end_station_id</th>\n",
       "      <th>member_casual</th>\n",
       "      <th>day_week_start</th>\n",
       "      <th>duration</th>\n",
       "      <th>distance</th>\n",
       "    </tr>\n",
       "  </thead>\n",
       "  <tbody>\n",
       "    <tr>\n",
       "      <th>0</th>\n",
       "      <td>000001004784CD35</td>\n",
       "      <td>docked_bike</td>\n",
       "      <td>2020-07-22 15:38:23</td>\n",
       "      <td>2020-07-22 15:56:47</td>\n",
       "      <td>Wolcott (Ravenswood) Ave &amp; Montrose Ave</td>\n",
       "      <td>238</td>\n",
       "      <td>Southport Ave &amp; Clybourn Ave</td>\n",
       "      <td>307</td>\n",
       "      <td>casual</td>\n",
       "      <td>4.0</td>\n",
       "      <td>1824.0</td>\n",
       "      <td>42501.53</td>\n",
       "    </tr>\n",
       "    <tr>\n",
       "      <th>1</th>\n",
       "      <td>000002EBE159AE82</td>\n",
       "      <td>electric_bike</td>\n",
       "      <td>2021-06-22 17:25:15</td>\n",
       "      <td>2021-06-22 17:31:34</td>\n",
       "      <td>Clinton St &amp; Jackson Blvd</td>\n",
       "      <td>638</td>\n",
       "      <td>Milwaukee Ave &amp; Grand Ave</td>\n",
       "      <td>13033</td>\n",
       "      <td>member</td>\n",
       "      <td>3.0</td>\n",
       "      <td>619.0</td>\n",
       "      <td>14982.48</td>\n",
       "    </tr>\n",
       "    <tr>\n",
       "      <th>2</th>\n",
       "      <td>00000550C665101A</td>\n",
       "      <td>docked_bike</td>\n",
       "      <td>2020-06-06 15:20:01</td>\n",
       "      <td>2020-06-06 16:28:09</td>\n",
       "      <td>Sheffield Ave &amp; Waveland Ave</td>\n",
       "      <td>114</td>\n",
       "      <td>Kedzie Ave &amp; Milwaukee Ave</td>\n",
       "      <td>260</td>\n",
       "      <td>casual</td>\n",
       "      <td>7.0</td>\n",
       "      <td>10808.0</td>\n",
       "      <td>56896.25</td>\n",
       "    </tr>\n",
       "    <tr>\n",
       "      <th>3</th>\n",
       "      <td>0000127970C84F62</td>\n",
       "      <td>docked_bike</td>\n",
       "      <td>2020-05-30 06:36:36</td>\n",
       "      <td>2020-05-30 06:55:28</td>\n",
       "      <td>Green St &amp; Madison St</td>\n",
       "      <td>198</td>\n",
       "      <td>Wells St &amp; Concord Ln</td>\n",
       "      <td>289</td>\n",
       "      <td>member</td>\n",
       "      <td>7.0</td>\n",
       "      <td>1892.0</td>\n",
       "      <td>33329.42</td>\n",
       "    </tr>\n",
       "    <tr>\n",
       "      <th>4</th>\n",
       "      <td>00001A81D056B01B</td>\n",
       "      <td>classic_bike</td>\n",
       "      <td>2021-04-14 08:10:11</td>\n",
       "      <td>2021-04-14 08:19:14</td>\n",
       "      <td>Wood St &amp; Hubbard St</td>\n",
       "      <td>13432</td>\n",
       "      <td>Morgan St &amp; Lake St</td>\n",
       "      <td>TA1306000015</td>\n",
       "      <td>member</td>\n",
       "      <td>4.0</td>\n",
       "      <td>903.0</td>\n",
       "      <td>19670.18</td>\n",
       "    </tr>\n",
       "    <tr>\n",
       "      <th>...</th>\n",
       "      <td>...</td>\n",
       "      <td>...</td>\n",
       "      <td>...</td>\n",
       "      <td>...</td>\n",
       "      <td>...</td>\n",
       "      <td>...</td>\n",
       "      <td>...</td>\n",
       "      <td>...</td>\n",
       "      <td>...</td>\n",
       "      <td>...</td>\n",
       "      <td>...</td>\n",
       "      <td>...</td>\n",
       "    </tr>\n",
       "    <tr>\n",
       "      <th>5515089</th>\n",
       "      <td>FFFFFB6DD39792F1</td>\n",
       "      <td>docked_bike</td>\n",
       "      <td>2020-08-27 16:13:13</td>\n",
       "      <td>2020-08-27 16:43:24</td>\n",
       "      <td>McClurg Ct &amp; Erie St</td>\n",
       "      <td>142</td>\n",
       "      <td>Halsted St &amp; 18th St</td>\n",
       "      <td>202</td>\n",
       "      <td>member</td>\n",
       "      <td>5.0</td>\n",
       "      <td>3011.0</td>\n",
       "      <td>46660.08</td>\n",
       "    </tr>\n",
       "    <tr>\n",
       "      <th>5515090</th>\n",
       "      <td>FFFFFBF105061B9E</td>\n",
       "      <td>docked_bike</td>\n",
       "      <td>2020-06-15 08:52:25</td>\n",
       "      <td>2020-06-15 09:25:16</td>\n",
       "      <td>Avondale Ave &amp; Irving Park Rd</td>\n",
       "      <td>483</td>\n",
       "      <td>Kildare Ave &amp; Montrose Ave</td>\n",
       "      <td>630</td>\n",
       "      <td>member</td>\n",
       "      <td>2.0</td>\n",
       "      <td>7291.0</td>\n",
       "      <td>8525.92</td>\n",
       "    </tr>\n",
       "    <tr>\n",
       "      <th>5515091</th>\n",
       "      <td>FFFFFC1045B11550</td>\n",
       "      <td>classic_bike</td>\n",
       "      <td>2021-03-03 13:42:58</td>\n",
       "      <td>2021-03-03 14:13:13</td>\n",
       "      <td>Clark St &amp; Berwyn Ave</td>\n",
       "      <td>KA1504000146</td>\n",
       "      <td>Theater on the Lake</td>\n",
       "      <td>TA1308000001</td>\n",
       "      <td>member</td>\n",
       "      <td>4.0</td>\n",
       "      <td>7055.0</td>\n",
       "      <td>63716.35</td>\n",
       "    </tr>\n",
       "    <tr>\n",
       "      <th>5515092</th>\n",
       "      <td>FFFFFF0C829D3E7A</td>\n",
       "      <td>electric_bike</td>\n",
       "      <td>2021-05-03 17:04:08</td>\n",
       "      <td>2021-05-03 17:46:11</td>\n",
       "      <td>Clark St &amp; Lake St</td>\n",
       "      <td>KA1503000012</td>\n",
       "      <td>Harper Ave &amp; 59th St</td>\n",
       "      <td>KA1503000070</td>\n",
       "      <td>member</td>\n",
       "      <td>2.0</td>\n",
       "      <td>4203.0</td>\n",
       "      <td>105891.78</td>\n",
       "    </tr>\n",
       "    <tr>\n",
       "      <th>5515093</th>\n",
       "      <td>\u001a</td>\n",
       "      <td>NaN</td>\n",
       "      <td>NaN</td>\n",
       "      <td>NaN</td>\n",
       "      <td>NaN</td>\n",
       "      <td>NaN</td>\n",
       "      <td>NaN</td>\n",
       "      <td>NaN</td>\n",
       "      <td>NaN</td>\n",
       "      <td>NaN</td>\n",
       "      <td>NaN</td>\n",
       "      <td>NaN</td>\n",
       "    </tr>\n",
       "  </tbody>\n",
       "</table>\n",
       "<p>5515094 rows × 12 columns</p>\n",
       "</div>"
      ],
      "text/plain": [
       "                  ride_id  rideable_type           started_at  \\\n",
       "0        000001004784CD35    docked_bike  2020-07-22 15:38:23   \n",
       "1        000002EBE159AE82  electric_bike  2021-06-22 17:25:15   \n",
       "2        00000550C665101A    docked_bike  2020-06-06 15:20:01   \n",
       "3        0000127970C84F62    docked_bike  2020-05-30 06:36:36   \n",
       "4        00001A81D056B01B   classic_bike  2021-04-14 08:10:11   \n",
       "...                   ...            ...                  ...   \n",
       "5515089  FFFFFB6DD39792F1    docked_bike  2020-08-27 16:13:13   \n",
       "5515090  FFFFFBF105061B9E    docked_bike  2020-06-15 08:52:25   \n",
       "5515091  FFFFFC1045B11550   classic_bike  2021-03-03 13:42:58   \n",
       "5515092  FFFFFF0C829D3E7A  electric_bike  2021-05-03 17:04:08   \n",
       "5515093                 \u001a            NaN                  NaN   \n",
       "\n",
       "                    ended_at                       start_station_name  \\\n",
       "0        2020-07-22 15:56:47  Wolcott (Ravenswood) Ave & Montrose Ave   \n",
       "1        2021-06-22 17:31:34                Clinton St & Jackson Blvd   \n",
       "2        2020-06-06 16:28:09             Sheffield Ave & Waveland Ave   \n",
       "3        2020-05-30 06:55:28                    Green St & Madison St   \n",
       "4        2021-04-14 08:19:14                     Wood St & Hubbard St   \n",
       "...                      ...                                      ...   \n",
       "5515089  2020-08-27 16:43:24                     McClurg Ct & Erie St   \n",
       "5515090  2020-06-15 09:25:16            Avondale Ave & Irving Park Rd   \n",
       "5515091  2021-03-03 14:13:13                    Clark St & Berwyn Ave   \n",
       "5515092  2021-05-03 17:46:11                       Clark St & Lake St   \n",
       "5515093                  NaN                                      NaN   \n",
       "\n",
       "        start_station_id              end_station_name end_station_id  \\\n",
       "0                    238  Southport Ave & Clybourn Ave            307   \n",
       "1                    638     Milwaukee Ave & Grand Ave          13033   \n",
       "2                    114    Kedzie Ave & Milwaukee Ave            260   \n",
       "3                    198         Wells St & Concord Ln            289   \n",
       "4                  13432           Morgan St & Lake St   TA1306000015   \n",
       "...                  ...                           ...            ...   \n",
       "5515089              142          Halsted St & 18th St            202   \n",
       "5515090              483    Kildare Ave & Montrose Ave            630   \n",
       "5515091     KA1504000146           Theater on the Lake   TA1308000001   \n",
       "5515092     KA1503000012          Harper Ave & 59th St   KA1503000070   \n",
       "5515093              NaN                           NaN            NaN   \n",
       "\n",
       "        member_casual  day_week_start  duration   distance  \n",
       "0              casual             4.0    1824.0   42501.53  \n",
       "1              member             3.0     619.0   14982.48  \n",
       "2              casual             7.0   10808.0   56896.25  \n",
       "3              member             7.0    1892.0   33329.42  \n",
       "4              member             4.0     903.0   19670.18  \n",
       "...               ...             ...       ...        ...  \n",
       "5515089        member             5.0    3011.0   46660.08  \n",
       "5515090        member             2.0    7291.0    8525.92  \n",
       "5515091        member             4.0    7055.0   63716.35  \n",
       "5515092        member             2.0    4203.0  105891.78  \n",
       "5515093           NaN             NaN       NaN        NaN  \n",
       "\n",
       "[5515094 rows x 12 columns]"
      ]
     },
     "execution_count": 267,
     "metadata": {},
     "output_type": "execute_result"
    }
   ],
   "source": [
    "## There are some columns there is no need for them \n",
    "df.drop([\"start_lat\",\"start_lng\",\"end_lat\",\"end_lng\"],axis = 1)"
   ]
  },
  {
   "cell_type": "code",
   "execution_count": 268,
   "id": "4621da78-4f87-4398-a4a8-101616c3925c",
   "metadata": {},
   "outputs": [
    {
     "data": {
      "text/plain": [
       "11306"
      ]
     },
     "execution_count": 268,
     "metadata": {},
     "output_type": "execute_result"
    }
   ],
   "source": [
    "## The duration column has negative values which is error\n",
    "(df[\"duration\"]<=0).sum()"
   ]
  },
  {
   "cell_type": "code",
   "execution_count": 269,
   "id": "f4dbdda2-0ad8-49c5-bc22-75b79c218ebb",
   "metadata": {},
   "outputs": [],
   "source": [
    "## Delete the raws that contain negative values in the duratoin column\n",
    "df.drop(df.index[df[\"duration\"]<=0],inplace = True)"
   ]
  },
  {
   "cell_type": "code",
   "execution_count": 270,
   "id": "27e87abc-6ffa-47ad-b3d6-0b80178e0665",
   "metadata": {},
   "outputs": [
    {
     "data": {
      "text/plain": [
       "429308"
      ]
     },
     "execution_count": 270,
     "metadata": {},
     "output_type": "execute_result"
    }
   ],
   "source": [
    "## The distance column has negative values which is error\n",
    "(df[\"distance\"]<=0).sum()"
   ]
  },
  {
   "cell_type": "code",
   "execution_count": 271,
   "id": "301cacef-62bd-44f1-8f4e-00f0a48c2a0b",
   "metadata": {},
   "outputs": [],
   "source": [
    "## Delete the raws that contain negative values in the distance column\n",
    "df.drop(df.index[df[\"distance\"]<=0],inplace = True)"
   ]
  },
  {
   "cell_type": "code",
   "execution_count": 272,
   "id": "2a7901fd-7d00-4294-90f0-2468764af66b",
   "metadata": {},
   "outputs": [],
   "source": [
    "## Delete the null values in the dataset\n",
    "df.dropna(inplace= True)"
   ]
  },
  {
   "cell_type": "code",
   "execution_count": null,
   "id": "baac9b77-23c3-4aaf-bbcf-25a3bad9b1d9",
   "metadata": {},
   "outputs": [],
   "source": [
    "## Check for duplicates\n",
    "df.duplicated().sum()\n",
    "## No duplicated values"
   ]
  },
  {
   "cell_type": "code",
   "execution_count": null,
   "id": "4a5d81a5-ec66-400f-9a80-20052fd36160",
   "metadata": {},
   "outputs": [],
   "source": [
    "df[\"day_week_start\"].unique()"
   ]
  },
  {
   "cell_type": "code",
   "execution_count": null,
   "id": "45552575-c5da-4bad-a868-d970ce466737",
   "metadata": {},
   "outputs": [],
   "source": [
    "## Add a column called day_week_start_name to change the number of the days to names\n",
    "day_dict= {1:\"Sunday\",2:\"Monday\",3:\"Tuesday\",4:\"Wednesday\",5:\"Thursday\",6:\"Friday\",7:\"Saturday\"}\n",
    "df[\"day_week_start_name\"] = df[\"day_week_start\"].apply(lambda y :day_dict[y])\n",
    "df"
   ]
  },
  {
   "cell_type": "code",
   "execution_count": null,
   "id": "1b4f8952-7e8a-48f1-aadf-bcc59a140ef4",
   "metadata": {},
   "outputs": [],
   "source": [
    "df.isna().sum()"
   ]
  },
  {
   "cell_type": "code",
   "execution_count": null,
   "id": "6c0501fb-463e-432e-a065-ecb656898574",
   "metadata": {},
   "outputs": [],
   "source": [
    "df.info()"
   ]
  },
  {
   "cell_type": "markdown",
   "id": "b41e32cd-373d-48d4-b356-2d8d64d96b9b",
   "metadata": {},
   "source": [
    "## 3. Process"
   ]
  },
  {
   "cell_type": "markdown",
   "id": "ba21899c-e3c9-44ab-8266-9ffae9de9f4f",
   "metadata": {},
   "source": [
    "### Key Tasks"
   ]
  },
  {
   "cell_type": "markdown",
   "id": "67454852-d4c9-4ddc-ad81-bd43144778bd",
   "metadata": {},
   "source": [
    "1. Check the data for errors:\n",
    "    - Data Has been cleaned from the above code\n",
    "    - No duplicates where found,remove negative values from a non-negative coulmn and remove NaN values and rows from the data\n",
    "2. Choose your tools:\n",
    "    - Python\n",
    "3. Document the cleaning process.\n",
    "    - Did it with every code\n",
    "\n"
   ]
  },
  {
   "cell_type": "code",
   "execution_count": null,
   "id": "1b36820f-c34c-49ec-be65-df6a07afc094",
   "metadata": {},
   "outputs": [],
   "source": [
    "df[\"started_at\"]= pd.to_datetime(df[\"started_at\"])\n",
    "df.info()"
   ]
  },
  {
   "cell_type": "code",
   "execution_count": null,
   "id": "7eb7a7db-0c6a-4bac-93b5-18ffbfdbeb41",
   "metadata": {},
   "outputs": [],
   "source": [
    "df[\"month\"] = df[\"started_at\"].dt.month"
   ]
  },
  {
   "cell_type": "code",
   "execution_count": null,
   "id": "77bc62e4-59d8-4f11-8295-27c139ad0e28",
   "metadata": {},
   "outputs": [],
   "source": [
    "month_dict ={1:\"January\",2:\"February\",3:\"March\",4:\"April\",5:\"May\",6:\"June\",7:\"July\",8:\"August\",9:\"September\",\n",
    "            10:\"October\",11:\"November\", 12: \"December\",0:0}\n",
    "df[\"month_name\"] =df[\"month\"].apply(lambda y :month_dict[y])"
   ]
  },
  {
   "cell_type": "code",
   "execution_count": null,
   "id": "fba42be0-14c1-4c11-b7ef-7f4ae4ea64cf",
   "metadata": {},
   "outputs": [],
   "source": [
    "df"
   ]
  },
  {
   "cell_type": "markdown",
   "id": "a7c20256-2505-43cd-9ce6-be4968a04372",
   "metadata": {},
   "source": [
    "The data is ready for analysis"
   ]
  },
  {
   "cell_type": "markdown",
   "id": "deeab1ae-c6c9-4569-aca6-53a47a9dd1f8",
   "metadata": {},
   "source": [
    "## 4. Analyze"
   ]
  },
  {
   "cell_type": "code",
   "execution_count": null,
   "id": "f1fe9960-769f-4862-8a92-67f74643a89f",
   "metadata": {},
   "outputs": [],
   "source": [
    "## Make 2 new data frames from the original data frame\n",
    "member_df = df[df[\"member_casual\"]==\"member\"]\n",
    "casual_df = df[df[\"member_casual\"]==\"casual\"]"
   ]
  },
  {
   "cell_type": "code",
   "execution_count": null,
   "id": "063aec42-ca7d-4df6-b5b5-6ca947aad9c3",
   "metadata": {},
   "outputs": [],
   "source": [
    "member_df"
   ]
  },
  {
   "cell_type": "code",
   "execution_count": null,
   "id": "ccab6395-e5d7-40b2-9fab-8c8bc704d636",
   "metadata": {},
   "outputs": [],
   "source": [
    "casual_df"
   ]
  },
  {
   "cell_type": "code",
   "execution_count": null,
   "id": "4c09f3a8-a874-4cb9-8e8d-902d53364eee",
   "metadata": {},
   "outputs": [],
   "source": [
    "member_type =df[\"member_casual\"].value_counts()\n",
    "member_type"
   ]
  },
  {
   "cell_type": "code",
   "execution_count": null,
   "id": "3559546c-9024-4115-8676-60fa7229ca02",
   "metadata": {},
   "outputs": [],
   "source": [
    "df[\"member_casual\"].value_counts(normalize=True)\n",
    "## The percentage of annual members in 62.2% ,and the percentage of casual riders is 37.7%"
   ]
  },
  {
   "cell_type": "code",
   "execution_count": null,
   "id": "d92078b4-0c95-4b13-9b81-281c5596c6c7",
   "metadata": {},
   "outputs": [],
   "source": [
    "df[\"start_station_name\"].value_counts().head(10)\n",
    "## Streeter Dr & Grand Ave is the most visited station annual members and casual riders use"
   ]
  },
  {
   "cell_type": "code",
   "execution_count": null,
   "id": "48748bc0-016a-4cf2-baef-4b2c684ba679",
   "metadata": {},
   "outputs": [],
   "source": [
    "member_df[\"start_station_name\"].value_counts().head(10)\n",
    "## Clark St & Elm St is the most visited station annual members use"
   ]
  },
  {
   "cell_type": "code",
   "execution_count": null,
   "id": "043fd1da-0433-466b-baa7-10ac9e6d3b96",
   "metadata": {},
   "outputs": [],
   "source": [
    "casual_df[\"start_station_name\"].value_counts().head(10)\n",
    "## Streeter Dr & Grand Ave is the most visited station casual members use"
   ]
  },
  {
   "cell_type": "code",
   "execution_count": null,
   "id": "94dd092c-5dfa-4eaf-b555-4e22eb0e4d3e",
   "metadata": {},
   "outputs": [],
   "source": [
    "rideable_type =df[\"rideable_type\"].value_counts()\n",
    "rideable_type"
   ]
  },
  {
   "cell_type": "code",
   "execution_count": null,
   "id": "00b355b5-baa7-415d-8682-7552f254edb2",
   "metadata": {},
   "outputs": [],
   "source": [
    "df[\"rideable_type\"].value_counts(normalize= True)"
   ]
  },
  {
   "cell_type": "code",
   "execution_count": null,
   "id": "69a88092-8953-4d64-bdd6-a3b02962915a",
   "metadata": {},
   "outputs": [],
   "source": [
    "member_rideable_type =member_df[\"rideable_type\"].value_counts()\n",
    "member_rideable_type"
   ]
  },
  {
   "cell_type": "code",
   "execution_count": null,
   "id": "e4fced2e-25a1-482c-a9fd-0b4bce369e55",
   "metadata": {},
   "outputs": [],
   "source": [
    "casual_rideable_type =casual_df[\"rideable_type\"].value_counts()\n",
    "casual_rideable_type"
   ]
  },
  {
   "cell_type": "code",
   "execution_count": null,
   "id": "b101ff0c-4dd3-487a-9eca-b5a50104162c",
   "metadata": {
    "tags": []
   },
   "outputs": [],
   "source": [
    "member_day_rides= member_df[\"day_week_start\"].value_counts().sort_index()\n",
    "#member_df.groupby([\"day_week_start\",\"day_week_start_name\"])[\"ride_id\"].count().sort_values(ascending = True)\n",
    "member_day_rides"
   ]
  },
  {
   "cell_type": "code",
   "execution_count": null,
   "id": "f4f37a1a-23c6-447f-80a0-6b624b1be7a4",
   "metadata": {},
   "outputs": [],
   "source": [
    "member_day_name_rides= member_df[\"day_week_start_name\"].value_counts(normalize = True)\n",
    "#member_df.groupby([\"day_week_start\",\"day_week_start_name\"])[\"ride_id\"].count().sort_values(ascending = True)\n",
    "member_day_name_rides\n",
    "## Most days rides are nearly equal for annual members"
   ]
  },
  {
   "cell_type": "code",
   "execution_count": null,
   "id": "30f1a749-5ab0-4876-8612-78cda4b0fec3",
   "metadata": {
    "tags": []
   },
   "outputs": [],
   "source": [
    "casual_day_rides= casual_df[\"day_week_start\"].value_counts().sort_index()\n",
    "casual_day_rides"
   ]
  },
  {
   "cell_type": "code",
   "execution_count": null,
   "id": "cf239c73-ff43-43a0-bd3e-e683e8bb1dcd",
   "metadata": {},
   "outputs": [],
   "source": [
    "casual_day_name_rides= casual_df[\"day_week_start_name\"].value_counts(normalize=True)\n",
    "casual_day_name_rides\n",
    "## The percentage of casual rides on Saturday and Sunday and Friday >60% "
   ]
  },
  {
   "cell_type": "code",
   "execution_count": null,
   "id": "2bd9f433-7e2b-40b8-990f-6e906cec9b54",
   "metadata": {},
   "outputs": [],
   "source": [
    "member_month_rides = member_df[\"month\"].value_counts().sort_index()\n",
    "member_month_rides"
   ]
  },
  {
   "cell_type": "code",
   "execution_count": null,
   "id": "eb43dbb2-f8a8-4564-ab05-f36d829e601a",
   "metadata": {},
   "outputs": [],
   "source": [
    "member_month_name_rides = member_df[\"month_name\"].value_counts()\n",
    "member_month_name_rides"
   ]
  },
  {
   "cell_type": "code",
   "execution_count": null,
   "id": "d15b30de-8cbc-4b21-81d0-a015688001af",
   "metadata": {},
   "outputs": [],
   "source": [
    "casual_month_rides = casual_df[\"month\"].value_counts().sort_index()\n",
    "casual_month_rides"
   ]
  },
  {
   "cell_type": "code",
   "execution_count": null,
   "id": "e9dc0d3d-e949-47ec-a9c9-adf8d758d258",
   "metadata": {},
   "outputs": [],
   "source": [
    "casual_month_name_rides = casual_df[\"month_name\"].value_counts(normalize=True)\n",
    "casual_month_name_rides"
   ]
  },
  {
   "cell_type": "markdown",
   "id": "25c2722c-16ed-4ea8-9971-ae48e77f07aa",
   "metadata": {},
   "source": [
    "## 5. Visualization"
   ]
  },
  {
   "cell_type": "code",
   "execution_count": null,
   "id": "1e614b7f-3b8b-4757-86a4-2971dcfc594a",
   "metadata": {
    "jupyter": {
     "source_hidden": true
    },
    "tags": []
   },
   "outputs": [],
   "source": [
    "plt.figure(figsize=(8,6))\n",
    "plt.bar( member_type.index,member_type.values)\n",
    "plt.title(\"Member vs Causal riders count\")\n",
    "current_values = plt.gca().get_yticks()\n",
    "current_values\n",
    "plt.gca().set_yticklabels(['{:,.0f}'.format(x) for x in current_values])\n",
    "plt.show()"
   ]
  },
  {
   "cell_type": "code",
   "execution_count": null,
   "id": "7ccbc84f-1560-46f3-a0af-b9446bf7021a",
   "metadata": {
    "jupyter": {
     "source_hidden": true
    },
    "tags": []
   },
   "outputs": [],
   "source": [
    "plt.figure(figsize=(8,6))\n",
    "plt.pie(member_type.values,labels = member_type.index,autopct=\"%.1f%%\")\n",
    "plt.title(\"Member vs Causal riders Percentage\")\n",
    "plt.legend()\n",
    "plt.show()"
   ]
  },
  {
   "cell_type": "code",
   "execution_count": null,
   "id": "1e6df8a3-384e-47ec-9f5e-339b7ccc419a",
   "metadata": {
    "jupyter": {
     "source_hidden": true
    },
    "tags": []
   },
   "outputs": [],
   "source": [
    "plt.figure(figsize=(8,6))\n",
    "plt.bar( rideable_type.index,rideable_type.values)\n",
    "plt.title(\"Rideable Types Count Of All Riders\")\n",
    "current_values = plt.gca().get_yticks()\n",
    "current_values\n",
    "plt.gca().set_yticklabels(['{:,.0f}'.format(x) for x in current_values])\n",
    "plt.show()"
   ]
  },
  {
   "cell_type": "code",
   "execution_count": null,
   "id": "948eae07-4887-45ac-b1f9-4d8e4dde8601",
   "metadata": {
    "jupyter": {
     "source_hidden": true
    },
    "tags": []
   },
   "outputs": [],
   "source": [
    "df[\"rideable_type\"].value_counts(normalize= True)\n",
    "plt.figure(figsize=(8,6))\n",
    "plt.pie(rideable_type.values,labels = rideable_type.index,autopct=\"%.1f%%\")\n",
    "plt.title(\"Rideable Types Percentage Of All Riders\")\n",
    "plt.legend()\n",
    "plt.show()"
   ]
  },
  {
   "cell_type": "code",
   "execution_count": null,
   "id": "b43764d8-a915-4eed-8a93-0b108b31651c",
   "metadata": {
    "jupyter": {
     "source_hidden": true
    },
    "tags": []
   },
   "outputs": [],
   "source": [
    "plt.figure(figsize=(8,6))\n",
    "plt.bar( member_rideable_type.index,member_rideable_type.values)\n",
    "plt.title(\"Rideable Types Count Of Annnual Members\")\n",
    "current_values = plt.gca().get_yticks()\n",
    "current_values\n",
    "plt.gca().set_yticklabels(['{:,.0f}'.format(x) for x in current_values])\n",
    "plt.show()"
   ]
  },
  {
   "cell_type": "code",
   "execution_count": null,
   "id": "165e9d2f-5fc2-4669-be6c-6b42b3250ab9",
   "metadata": {
    "jupyter": {
     "source_hidden": true
    },
    "tags": []
   },
   "outputs": [],
   "source": [
    "plt.figure(figsize=(8,6))\n",
    "plt.pie(member_rideable_type.values,labels = member_rideable_type.index,autopct=\"%.1f%%\")\n",
    "plt.title(\"Rideable Types Percentage Of Annual Members\")\n",
    "plt.legend()\n",
    "plt.show()"
   ]
  },
  {
   "cell_type": "code",
   "execution_count": null,
   "id": "afbe0f9f-9b2b-43fe-9da0-2297e3cbfd1a",
   "metadata": {
    "jupyter": {
     "source_hidden": true
    },
    "tags": []
   },
   "outputs": [],
   "source": [
    "plt.figure(figsize=(8,6))\n",
    "plt.bar( casual_rideable_type.index,casual_rideable_type.values)\n",
    "plt.title(\"Rideable Types Count Of Casual Riders\")\n",
    "current_values = plt.gca().get_yticks()\n",
    "current_values\n",
    "plt.gca().set_yticklabels(['{:,.0f}'.format(x) for x in current_values])\n",
    "plt.show()"
   ]
  },
  {
   "cell_type": "code",
   "execution_count": null,
   "id": "36f90986-4003-4063-a7d9-be53b41a24af",
   "metadata": {
    "jupyter": {
     "source_hidden": true
    },
    "tags": []
   },
   "outputs": [],
   "source": [
    "plt.figure(figsize=(8,6))\n",
    "plt.pie(casual_rideable_type.values,labels = casual_rideable_type.index,autopct=\"%.1f%%\")\n",
    "plt.title(\"Rideable Types Percentage Of Casual Riders\")\n",
    "plt.legend()\n",
    "plt.show()"
   ]
  },
  {
   "cell_type": "code",
   "execution_count": null,
   "id": "b516bf04-94b4-407b-aedd-2fb27bc3eff0",
   "metadata": {
    "tags": []
   },
   "outputs": [],
   "source": [
    "plt.figure(figsize=(8,6))\n",
    "width = .3\n",
    "plt.bar(member_day_rides.index,member_day_rides.values,width = width)\n",
    "plt.bar(casual_day_rides.index+width,casual_day_rides.values,width = width)\n",
    "plt.title(\"Total Number of Rides by Day\")\n",
    "plt.xticks([1,2,3,4,5,6,7],labels =[\"Sudnay\",\"Monday\",\"Tuesday\",\"Wednesday\",\"Thursday\",\"Friday\",\"Saturday\"],rotation = 45)\n",
    "current_values = plt.gca().get_yticks()\n",
    "current_values\n",
    "plt.gca().set_yticklabels(['{:,.0f}'.format(x) for x in current_values])\n",
    "plt.legend(labels = [\"member\",\"casual\"])\n",
    "plt.show()"
   ]
  },
  {
   "cell_type": "code",
   "execution_count": null,
   "id": "a3aeead4-7d35-45c6-947e-e607c72ce821",
   "metadata": {
    "tags": []
   },
   "outputs": [],
   "source": [
    "plt.figure(figsize=(8,6))\n",
    "width = .3\n",
    "plt.bar(member_month_rides.index,member_month_rides.values,width = width)\n",
    "plt.bar(casual_month_rides.index+width,casual_month_rides.values,width = width)\n",
    "plt.title(\"Total Number of Rides by Month\")\n",
    "plt.xticks([1,2,3,4,5,6,7,8,9,10,11,12],\n",
    "           labels =[\"January\", \"February\", \"March\", \"April\", \"May\", \"June\", \"July\", \"August\", \"September\", \"October\", \"November\", \"December\"],\n",
    "          rotation = 45)\n",
    "current_values = plt.gca().get_yticks()\n",
    "current_values\n",
    "plt.gca().set_yticklabels(['{:,.0f}'.format(x) for x in current_values])\n",
    "plt.legend(labels = [\"member\",\"casual\"])\n",
    "plt.show()"
   ]
  },
  {
   "cell_type": "code",
   "execution_count": null,
   "id": "d984df76-e49f-4e54-870b-a0acf8f9d670",
   "metadata": {},
   "outputs": [],
   "source": [
    "plt.figure(figsize=(8,6))\n",
    "sns.countplot(x= \"member_casual\",hue = \"month\",data = df,palette=\"colorblind\")"
   ]
  },
  {
   "cell_type": "markdown",
   "id": "707d72e2-2376-445d-9e30-281be3ce42b4",
   "metadata": {},
   "source": [
    "## 6.Act"
   ]
  },
  {
   "cell_type": "markdown",
   "id": "05cc52b7-f12c-445d-b101-d003bfaf9560",
   "metadata": {},
   "source": [
    "1. the company could lower the charges for the rides for member customers than a casual users. This would encourage to casual users to become regular members."
   ]
  },
  {
   "cell_type": "markdown",
   "id": "44c5bee8-2de8-44c8-9f23-4162b4972ee8",
   "metadata": {},
   "source": [
    "2. The company can could give discounts for electric and classic bikes to annual and casual riders to increase the use of them"
   ]
  },
  {
   "cell_type": "markdown",
   "id": "20f147a1-218f-4c74-a9db-4bfe7ab995c2",
   "metadata": {},
   "source": [
    "3. The analysis has shown that annual members ride on weekdays more and casual ridres ride more on weekends , So the company should make a weekend packages to only members of the company,this package can include a discount to members who book a bike in the weekend."
   ]
  },
  {
   "cell_type": "markdown",
   "id": "e7593f6d-bbc8-4776-b249-7896dd1edb26",
   "metadata": {},
   "source": [
    "4. A little more than 70% of the casual riders use Cyclictic over a span of 5 months from May to September ; Marketing team must focus on top 10 stations during these months for:\n",
    "- A weekly, monthly and quarterly membership schemes\n",
    "- Increasing the number of bikes availability over the period of these 5 months"
   ]
  },
  {
   "cell_type": "markdown",
   "id": "386cfe22-dc48-4086-9787-f9d76b48d15a",
   "metadata": {},
   "source": [
    "5. Design campaign to promote the usage of bikes regularly by highlighting the health and environmental benefits by creating a mobile application which can show the calories burnt, and have a reward system once a certain level is reached. This will encourage memberships."
   ]
  },
  {
   "cell_type": "markdown",
   "id": "9d6d60cc-1dd2-48a0-a4dd-b948f8e5afba",
   "metadata": {},
   "source": [
    "Further analysis needs to be carried out to find more insights"
   ]
  }
 ],
 "metadata": {
  "kernelspec": {
   "display_name": "Python 3",
   "language": "python",
   "name": "python3"
  },
  "language_info": {
   "codemirror_mode": {
    "name": "ipython",
    "version": 3
   },
   "file_extension": ".py",
   "mimetype": "text/x-python",
   "name": "python",
   "nbconvert_exporter": "python",
   "pygments_lexer": "ipython3",
   "version": "3.8.8"
  }
 },
 "nbformat": 4,
 "nbformat_minor": 5
}
